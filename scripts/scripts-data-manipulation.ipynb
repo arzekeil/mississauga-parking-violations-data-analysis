{
 "cells": [
  {
   "cell_type": "markdown",
   "metadata": {},
   "source": [
    "Import all necessary packages & libraries"
   ]
  },
  {
   "cell_type": "code",
   "execution_count": 1,
   "metadata": {},
   "outputs": [],
   "source": [
    "import pandas as pd\n",
    "import os"
   ]
  },
  {
   "cell_type": "markdown",
   "metadata": {},
   "source": [
    "Get parent working directory"
   ]
  },
  {
   "cell_type": "code",
   "execution_count": 2,
   "metadata": {},
   "outputs": [],
   "source": [
    "pwd = os.getcwd()"
   ]
  },
  {
   "cell_type": "markdown",
   "metadata": {},
   "source": [
    "Save the location of where the `data` directory is"
   ]
  },
  {
   "cell_type": "code",
   "execution_count": 3,
   "metadata": {},
   "outputs": [
    {
     "data": {
      "text/plain": [
       "'c:\\\\Users\\\\arzek\\\\Desktop\\\\repo\\\\mississauga-parking-violations-data-analysis\\\\data'"
      ]
     },
     "execution_count": 3,
     "metadata": {},
     "output_type": "execute_result"
    }
   ],
   "source": [
    "data_dir = 'data'\n",
    "data_path = os.path.join(os.path.dirname(pwd), data_dir)\n",
    "data_path"
   ]
  },
  {
   "cell_type": "markdown",
   "metadata": {},
   "source": [
    "Store the names of all parking ticket csv files into a list"
   ]
  },
  {
   "cell_type": "code",
   "execution_count": 4,
   "metadata": {},
   "outputs": [
    {
     "data": {
      "text/plain": [
       "['c:\\\\Users\\\\arzek\\\\Desktop\\\\repo\\\\mississauga-parking-violations-data-analysis\\\\data\\\\Parking_Tickets_2016.csv',\n",
       " 'c:\\\\Users\\\\arzek\\\\Desktop\\\\repo\\\\mississauga-parking-violations-data-analysis\\\\data\\\\Parking_Tickets_2017.csv',\n",
       " 'c:\\\\Users\\\\arzek\\\\Desktop\\\\repo\\\\mississauga-parking-violations-data-analysis\\\\data\\\\Parking_Tickets_2018.csv',\n",
       " 'c:\\\\Users\\\\arzek\\\\Desktop\\\\repo\\\\mississauga-parking-violations-data-analysis\\\\data\\\\Parking_Tickets_2023.csv',\n",
       " 'c:\\\\Users\\\\arzek\\\\Desktop\\\\repo\\\\mississauga-parking-violations-data-analysis\\\\data\\\\Parking_Ticket_2019.csv',\n",
       " 'c:\\\\Users\\\\arzek\\\\Desktop\\\\repo\\\\mississauga-parking-violations-data-analysis\\\\data\\\\Parking_Ticket_2020.csv',\n",
       " 'c:\\\\Users\\\\arzek\\\\Desktop\\\\repo\\\\mississauga-parking-violations-data-analysis\\\\data\\\\Parking_Ticket_2021.csv',\n",
       " 'c:\\\\Users\\\\arzek\\\\Desktop\\\\repo\\\\mississauga-parking-violations-data-analysis\\\\data\\\\Parking_Ticket_2022.csv']"
      ]
     },
     "execution_count": 4,
     "metadata": {},
     "output_type": "execute_result"
    }
   ],
   "source": [
    "raw_csv_data = []\n",
    "for root, dirs, files in os.walk(data_path):\n",
    "    for file in files:\n",
    "        if file.endswith('.csv'):\n",
    "            raw_csv_data.append(os.path.join(root, file))\n",
    "\n",
    "raw_csv_data"
   ]
  },
  {
   "cell_type": "markdown",
   "metadata": {},
   "source": [
    "### Data transformation and Cleaning"
   ]
  },
  {
   "cell_type": "markdown",
   "metadata": {},
   "source": [
    "Load all raw csv data files into one pandas dataframe by:\n",
    "1. Dropping non-required columns\n",
    "2. Renaming columns to ensure it is uniform\n",
    "3. Concatenating the pandas dataframes together"
   ]
  },
  {
   "cell_type": "code",
   "execution_count": 5,
   "metadata": {},
   "outputs": [
    {
     "data": {
      "text/html": [
       "<div>\n",
       "<style scoped>\n",
       "    .dataframe tbody tr th:only-of-type {\n",
       "        vertical-align: middle;\n",
       "    }\n",
       "\n",
       "    .dataframe tbody tr th {\n",
       "        vertical-align: top;\n",
       "    }\n",
       "\n",
       "    .dataframe thead th {\n",
       "        text-align: right;\n",
       "    }\n",
       "</style>\n",
       "<table border=\"1\" class=\"dataframe\">\n",
       "  <thead>\n",
       "    <tr style=\"text-align: right;\">\n",
       "      <th></th>\n",
       "      <th>violation_description</th>\n",
       "      <th>violation_location</th>\n",
       "      <th>issue_date</th>\n",
       "      <th>issue_time</th>\n",
       "    </tr>\n",
       "  </thead>\n",
       "  <tbody>\n",
       "    <tr>\n",
       "      <th>0</th>\n",
       "      <td>PARKING VEHICLE ON PRIVATE PROPERTY WITHOUT OW...</td>\n",
       "      <td>100 CITY CENTRE DR</td>\n",
       "      <td>1/1/2016</td>\n",
       "      <td>17:37</td>\n",
       "    </tr>\n",
       "    <tr>\n",
       "      <th>1</th>\n",
       "      <td>PARKING VEHICLE AT EXPIRED METER</td>\n",
       "      <td>NR 6 BRANT</td>\n",
       "      <td>1/1/2016</td>\n",
       "      <td>07:18</td>\n",
       "    </tr>\n",
       "    <tr>\n",
       "      <th>2</th>\n",
       "      <td>FAILING TO OBEY INSTRUCTIONS DISPLAYED ON TRAF...</td>\n",
       "      <td>5990 AIRPORT RD</td>\n",
       "      <td>1/1/2016</td>\n",
       "      <td>07:58</td>\n",
       "    </tr>\n",
       "    <tr>\n",
       "      <th>3</th>\n",
       "      <td>PARKING OUTSIDE A PARKING AREA</td>\n",
       "      <td>6145 VISCOUNT RD</td>\n",
       "      <td>1/1/2016</td>\n",
       "      <td>07:24</td>\n",
       "    </tr>\n",
       "    <tr>\n",
       "      <th>4</th>\n",
       "      <td>PARKING IN A  RESERVED PARKING AREA WITHOUT A ...</td>\n",
       "      <td>6145 VISCOUNT RD</td>\n",
       "      <td>1/1/2016</td>\n",
       "      <td>12:45</td>\n",
       "    </tr>\n",
       "    <tr>\n",
       "      <th>...</th>\n",
       "      <td>...</td>\n",
       "      <td>...</td>\n",
       "      <td>...</td>\n",
       "      <td>...</td>\n",
       "    </tr>\n",
       "    <tr>\n",
       "      <th>158667</th>\n",
       "      <td>PARK, STOP OR LEAVE VEHICLE IN AN ACCESSIBLE P...</td>\n",
       "      <td>55 GLENN HAWTHORNE BLVD</td>\n",
       "      <td>9/9/2022</td>\n",
       "      <td>9:58</td>\n",
       "    </tr>\n",
       "    <tr>\n",
       "      <th>158668</th>\n",
       "      <td>PARK, STOP OR LEAVE VEHICLE IN AN ACCESSIBLE P...</td>\n",
       "      <td>3025 PEPPER MILL CRT</td>\n",
       "      <td>9/9/2022</td>\n",
       "      <td>9:58</td>\n",
       "    </tr>\n",
       "    <tr>\n",
       "      <th>158669</th>\n",
       "      <td>PARK, STOP OR LEAVE VEHICLE IN AN ACCESSIBLE P...</td>\n",
       "      <td>40 ANNAGEM BLVD</td>\n",
       "      <td>9/9/2022</td>\n",
       "      <td>9:58</td>\n",
       "    </tr>\n",
       "    <tr>\n",
       "      <th>158670</th>\n",
       "      <td>PARK, STOP OR LEAVE VEHICLE IN AN ACCESSIBLE P...</td>\n",
       "      <td>1500 DUNDAS ST E</td>\n",
       "      <td>9/9/2022</td>\n",
       "      <td>9:58</td>\n",
       "    </tr>\n",
       "    <tr>\n",
       "      <th>158671</th>\n",
       "      <td>PARK, STOP OR LEAVE VEHICLE IN AN ACCESSIBLE P...</td>\n",
       "      <td>6130 NETHERHART RD</td>\n",
       "      <td>9/9/2022</td>\n",
       "      <td>9:58</td>\n",
       "    </tr>\n",
       "  </tbody>\n",
       "</table>\n",
       "<p>1316050 rows × 4 columns</p>\n",
       "</div>"
      ],
      "text/plain": [
       "                                    violation_description  \\\n",
       "0       PARKING VEHICLE ON PRIVATE PROPERTY WITHOUT OW...   \n",
       "1                        PARKING VEHICLE AT EXPIRED METER   \n",
       "2       FAILING TO OBEY INSTRUCTIONS DISPLAYED ON TRAF...   \n",
       "3                          PARKING OUTSIDE A PARKING AREA   \n",
       "4       PARKING IN A  RESERVED PARKING AREA WITHOUT A ...   \n",
       "...                                                   ...   \n",
       "158667  PARK, STOP OR LEAVE VEHICLE IN AN ACCESSIBLE P...   \n",
       "158668  PARK, STOP OR LEAVE VEHICLE IN AN ACCESSIBLE P...   \n",
       "158669  PARK, STOP OR LEAVE VEHICLE IN AN ACCESSIBLE P...   \n",
       "158670  PARK, STOP OR LEAVE VEHICLE IN AN ACCESSIBLE P...   \n",
       "158671  PARK, STOP OR LEAVE VEHICLE IN AN ACCESSIBLE P...   \n",
       "\n",
       "             violation_location issue_date issue_time  \n",
       "0            100 CITY CENTRE DR   1/1/2016      17:37  \n",
       "1                    NR 6 BRANT   1/1/2016      07:18  \n",
       "2               5990 AIRPORT RD   1/1/2016      07:58  \n",
       "3              6145 VISCOUNT RD   1/1/2016      07:24  \n",
       "4              6145 VISCOUNT RD   1/1/2016      12:45  \n",
       "...                         ...        ...        ...  \n",
       "158667  55 GLENN HAWTHORNE BLVD   9/9/2022       9:58  \n",
       "158668     3025 PEPPER MILL CRT   9/9/2022       9:58  \n",
       "158669          40 ANNAGEM BLVD   9/9/2022       9:58  \n",
       "158670         1500 DUNDAS ST E   9/9/2022       9:58  \n",
       "158671       6130 NETHERHART RD   9/9/2022       9:58  \n",
       "\n",
       "[1316050 rows x 4 columns]"
      ]
     },
     "execution_count": 5,
     "metadata": {},
     "output_type": "execute_result"
    }
   ],
   "source": [
    "combined_dfs = []\n",
    "\n",
    "for file in raw_csv_data:\n",
    "    df = pd.read_csv(file, quotechar='\"', skipinitialspace=True)\n",
    "\n",
    "    columns_to_drop = ['FID', 'ObjectId']\n",
    "\n",
    "    for col in columns_to_drop:\n",
    "        if col in df.columns:\n",
    "            df = df.drop(col, axis=1)\n",
    "\n",
    "    columns_to_rename = {'VIODESCRIPTION': 'violation_description', 'VOIDESCRIPTION':'violation_description', 'LOCATIONDESC1': 'violation_location','ISSUEDATE': 'issue_date', 'ISSUETIME': 'issue_time'}\n",
    "\n",
    "    df = df.rename(columns=columns_to_rename)\n",
    "\n",
    "    combined_dfs.append(df)\n",
    "\n",
    "\n",
    "combined_df = pd.concat(combined_dfs)\n",
    "combined_df"
   ]
  },
  {
   "cell_type": "markdown",
   "metadata": {},
   "source": [
    "1. Ensure all text in the `violation_description` column are all upper case\n",
    "2. Change `issue_date` format to standard pandas date format\n",
    "3. Change `issue_time` format to standard pandas time formt"
   ]
  },
  {
   "cell_type": "code",
   "execution_count": 6,
   "metadata": {},
   "outputs": [
    {
     "data": {
      "text/html": [
       "<div>\n",
       "<style scoped>\n",
       "    .dataframe tbody tr th:only-of-type {\n",
       "        vertical-align: middle;\n",
       "    }\n",
       "\n",
       "    .dataframe tbody tr th {\n",
       "        vertical-align: top;\n",
       "    }\n",
       "\n",
       "    .dataframe thead th {\n",
       "        text-align: right;\n",
       "    }\n",
       "</style>\n",
       "<table border=\"1\" class=\"dataframe\">\n",
       "  <thead>\n",
       "    <tr style=\"text-align: right;\">\n",
       "      <th></th>\n",
       "      <th>violation_description</th>\n",
       "      <th>violation_location</th>\n",
       "      <th>issue_date</th>\n",
       "      <th>issue_time</th>\n",
       "    </tr>\n",
       "  </thead>\n",
       "  <tbody>\n",
       "    <tr>\n",
       "      <th>0</th>\n",
       "      <td>PARKING VEHICLE ON PRIVATE PROPERTY WITHOUT OW...</td>\n",
       "      <td>100 CITY CENTRE DR</td>\n",
       "      <td>2016-01-01</td>\n",
       "      <td>17:37:00</td>\n",
       "    </tr>\n",
       "    <tr>\n",
       "      <th>1</th>\n",
       "      <td>PARKING VEHICLE AT EXPIRED METER</td>\n",
       "      <td>NR 6 BRANT</td>\n",
       "      <td>2016-01-01</td>\n",
       "      <td>07:18:00</td>\n",
       "    </tr>\n",
       "    <tr>\n",
       "      <th>2</th>\n",
       "      <td>FAILING TO OBEY INSTRUCTIONS DISPLAYED ON TRAF...</td>\n",
       "      <td>5990 AIRPORT RD</td>\n",
       "      <td>2016-01-01</td>\n",
       "      <td>07:58:00</td>\n",
       "    </tr>\n",
       "    <tr>\n",
       "      <th>3</th>\n",
       "      <td>PARKING OUTSIDE A PARKING AREA</td>\n",
       "      <td>6145 VISCOUNT RD</td>\n",
       "      <td>2016-01-01</td>\n",
       "      <td>07:24:00</td>\n",
       "    </tr>\n",
       "    <tr>\n",
       "      <th>4</th>\n",
       "      <td>PARKING IN A  RESERVED PARKING AREA WITHOUT A ...</td>\n",
       "      <td>6145 VISCOUNT RD</td>\n",
       "      <td>2016-01-01</td>\n",
       "      <td>12:45:00</td>\n",
       "    </tr>\n",
       "    <tr>\n",
       "      <th>...</th>\n",
       "      <td>...</td>\n",
       "      <td>...</td>\n",
       "      <td>...</td>\n",
       "      <td>...</td>\n",
       "    </tr>\n",
       "    <tr>\n",
       "      <th>158667</th>\n",
       "      <td>PARK, STOP OR LEAVE VEHICLE IN AN ACCESSIBLE P...</td>\n",
       "      <td>55 GLENN HAWTHORNE BLVD</td>\n",
       "      <td>2022-09-09</td>\n",
       "      <td>09:58:00</td>\n",
       "    </tr>\n",
       "    <tr>\n",
       "      <th>158668</th>\n",
       "      <td>PARK, STOP OR LEAVE VEHICLE IN AN ACCESSIBLE P...</td>\n",
       "      <td>3025 PEPPER MILL CRT</td>\n",
       "      <td>2022-09-09</td>\n",
       "      <td>09:58:00</td>\n",
       "    </tr>\n",
       "    <tr>\n",
       "      <th>158669</th>\n",
       "      <td>PARK, STOP OR LEAVE VEHICLE IN AN ACCESSIBLE P...</td>\n",
       "      <td>40 ANNAGEM BLVD</td>\n",
       "      <td>2022-09-09</td>\n",
       "      <td>09:58:00</td>\n",
       "    </tr>\n",
       "    <tr>\n",
       "      <th>158670</th>\n",
       "      <td>PARK, STOP OR LEAVE VEHICLE IN AN ACCESSIBLE P...</td>\n",
       "      <td>1500 DUNDAS ST E</td>\n",
       "      <td>2022-09-09</td>\n",
       "      <td>09:58:00</td>\n",
       "    </tr>\n",
       "    <tr>\n",
       "      <th>158671</th>\n",
       "      <td>PARK, STOP OR LEAVE VEHICLE IN AN ACCESSIBLE P...</td>\n",
       "      <td>6130 NETHERHART RD</td>\n",
       "      <td>2022-09-09</td>\n",
       "      <td>09:58:00</td>\n",
       "    </tr>\n",
       "  </tbody>\n",
       "</table>\n",
       "<p>1316050 rows × 4 columns</p>\n",
       "</div>"
      ],
      "text/plain": [
       "                                    violation_description  \\\n",
       "0       PARKING VEHICLE ON PRIVATE PROPERTY WITHOUT OW...   \n",
       "1                        PARKING VEHICLE AT EXPIRED METER   \n",
       "2       FAILING TO OBEY INSTRUCTIONS DISPLAYED ON TRAF...   \n",
       "3                          PARKING OUTSIDE A PARKING AREA   \n",
       "4       PARKING IN A  RESERVED PARKING AREA WITHOUT A ...   \n",
       "...                                                   ...   \n",
       "158667  PARK, STOP OR LEAVE VEHICLE IN AN ACCESSIBLE P...   \n",
       "158668  PARK, STOP OR LEAVE VEHICLE IN AN ACCESSIBLE P...   \n",
       "158669  PARK, STOP OR LEAVE VEHICLE IN AN ACCESSIBLE P...   \n",
       "158670  PARK, STOP OR LEAVE VEHICLE IN AN ACCESSIBLE P...   \n",
       "158671  PARK, STOP OR LEAVE VEHICLE IN AN ACCESSIBLE P...   \n",
       "\n",
       "             violation_location issue_date issue_time  \n",
       "0            100 CITY CENTRE DR 2016-01-01   17:37:00  \n",
       "1                    NR 6 BRANT 2016-01-01   07:18:00  \n",
       "2               5990 AIRPORT RD 2016-01-01   07:58:00  \n",
       "3              6145 VISCOUNT RD 2016-01-01   07:24:00  \n",
       "4              6145 VISCOUNT RD 2016-01-01   12:45:00  \n",
       "...                         ...        ...        ...  \n",
       "158667  55 GLENN HAWTHORNE BLVD 2022-09-09   09:58:00  \n",
       "158668     3025 PEPPER MILL CRT 2022-09-09   09:58:00  \n",
       "158669          40 ANNAGEM BLVD 2022-09-09   09:58:00  \n",
       "158670         1500 DUNDAS ST E 2022-09-09   09:58:00  \n",
       "158671       6130 NETHERHART RD 2022-09-09   09:58:00  \n",
       "\n",
       "[1316050 rows x 4 columns]"
      ]
     },
     "execution_count": 6,
     "metadata": {},
     "output_type": "execute_result"
    }
   ],
   "source": [
    "cleaned_df = combined_df.copy()\n",
    "cleaned_df['violation_description'] = cleaned_df['violation_description'].str.upper()\n",
    "cleaned_df['issue_date'] = pd.to_datetime(cleaned_df['issue_date'])\n",
    "cleaned_df['issue_time'] = pd.to_datetime(cleaned_df['issue_time'], format='%H:%M').dt.time\n",
    "\n",
    "cleaned_df"
   ]
  },
  {
   "cell_type": "markdown",
   "metadata": {},
   "source": [
    "### Exporting data"
   ]
  },
  {
   "cell_type": "markdown",
   "metadata": {},
   "source": [
    "Save the location of the directory where the cleaned data will be stored"
   ]
  },
  {
   "cell_type": "code",
   "execution_count": 7,
   "metadata": {},
   "outputs": [
    {
     "data": {
      "text/plain": [
       "'c:\\\\Users\\\\arzek\\\\Desktop\\\\repo\\\\mississauga-parking-violations-data-analysis\\\\cleaned-data'"
      ]
     },
     "execution_count": 7,
     "metadata": {},
     "output_type": "execute_result"
    }
   ],
   "source": [
    "cleaned_data_dir = 'cleaned-data'\n",
    "cleaned_data_path = os.path.join(os.path.dirname(pwd), cleaned_data_dir)\n",
    "cleaned_data_path"
   ]
  },
  {
   "cell_type": "markdown",
   "metadata": {},
   "source": [
    "Save the pandas dataframe with the combined csv files into one single giant csv file"
   ]
  },
  {
   "cell_type": "code",
   "execution_count": 8,
   "metadata": {},
   "outputs": [],
   "source": [
    "cleaned_df.to_csv(f'{cleaned_data_path}\\\\combined_mississauga_parking_ticket_dataset.csv', index=False)"
   ]
  },
  {
   "cell_type": "markdown",
   "metadata": {},
   "source": [
    "Saving the pandas dataframe with the combined csv files into a single SQLite Database"
   ]
  },
  {
   "cell_type": "code",
   "execution_count": 14,
   "metadata": {},
   "outputs": [],
   "source": [
    "import sqlite3\n",
    "\n",
    "conn = sqlite3.connect(f'{cleaned_data_path}\\\\mississauga_parking_tickets_dataset.db')\n",
    "\n",
    "cleaned_df.to_sql('parking_violations', conn, if_exists='replace', index=False)\n",
    "\n",
    "conn.close()"
   ]
  },
  {
   "cell_type": "markdown",
   "metadata": {},
   "source": [
    "Verify the data exists in the database"
   ]
  },
  {
   "cell_type": "code",
   "execution_count": 15,
   "metadata": {},
   "outputs": [
    {
     "name": "stdout",
     "output_type": "stream",
     "text": [
      "                                     violation_description  \\\n",
      "0        PARKING VEHICLE ON PRIVATE PROPERTY WITHOUT OW...   \n",
      "1                         PARKING VEHICLE AT EXPIRED METER   \n",
      "2        FAILING TO OBEY INSTRUCTIONS DISPLAYED ON TRAF...   \n",
      "3                           PARKING OUTSIDE A PARKING AREA   \n",
      "4        PARKING IN A  RESERVED PARKING AREA WITHOUT A ...   \n",
      "...                                                    ...   \n",
      "1316045  PARK, STOP OR LEAVE VEHICLE IN AN ACCESSIBLE P...   \n",
      "1316046  PARK, STOP OR LEAVE VEHICLE IN AN ACCESSIBLE P...   \n",
      "1316047  PARK, STOP OR LEAVE VEHICLE IN AN ACCESSIBLE P...   \n",
      "1316048  PARK, STOP OR LEAVE VEHICLE IN AN ACCESSIBLE P...   \n",
      "1316049  PARK, STOP OR LEAVE VEHICLE IN AN ACCESSIBLE P...   \n",
      "\n",
      "              violation_location           issue_date       issue_time  \n",
      "0             100 CITY CENTRE DR  2016-01-01 00:00:00  17:37:00.000000  \n",
      "1                     NR 6 BRANT  2016-01-01 00:00:00  07:18:00.000000  \n",
      "2                5990 AIRPORT RD  2016-01-01 00:00:00  07:58:00.000000  \n",
      "3               6145 VISCOUNT RD  2016-01-01 00:00:00  07:24:00.000000  \n",
      "4               6145 VISCOUNT RD  2016-01-01 00:00:00  12:45:00.000000  \n",
      "...                          ...                  ...              ...  \n",
      "1316045  55 GLENN HAWTHORNE BLVD  2022-09-09 00:00:00  09:58:00.000000  \n",
      "1316046     3025 PEPPER MILL CRT  2022-09-09 00:00:00  09:58:00.000000  \n",
      "1316047          40 ANNAGEM BLVD  2022-09-09 00:00:00  09:58:00.000000  \n",
      "1316048         1500 DUNDAS ST E  2022-09-09 00:00:00  09:58:00.000000  \n",
      "1316049       6130 NETHERHART RD  2022-09-09 00:00:00  09:58:00.000000  \n",
      "\n",
      "[1316050 rows x 4 columns]\n"
     ]
    }
   ],
   "source": [
    "# Reconnect to the database\n",
    "conn = sqlite3.connect(f'{cleaned_data_path}\\\\mississauga_parking_tickets_dataset.db')\n",
    "\n",
    "# Query the database to see the saved data\n",
    "df_from_db = pd.read_sql_query(\"SELECT * FROM parking_violations\", conn)\n",
    "\n",
    "# Display the DataFrame loaded from the database\n",
    "print(df_from_db)\n",
    "\n",
    "# Close the connection again\n",
    "conn.close()"
   ]
  }
 ],
 "metadata": {
  "kernelspec": {
   "display_name": "Python 3",
   "language": "python",
   "name": "python3"
  },
  "language_info": {
   "codemirror_mode": {
    "name": "ipython",
    "version": 3
   },
   "file_extension": ".py",
   "mimetype": "text/x-python",
   "name": "python",
   "nbconvert_exporter": "python",
   "pygments_lexer": "ipython3",
   "version": "3.11.9"
  }
 },
 "nbformat": 4,
 "nbformat_minor": 2
}
